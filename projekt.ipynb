{
 "cells": [
  {
   "cell_type": "code",
   "execution_count": null,
   "metadata": {},
   "outputs": [],
   "source": [
    "% matplotlib inline\n",
    "\n",
    "import numpy as np\n",
    "import matplotlib.pyplot as plt\n",
    "import pandas as pd\n",
    "from scipy.sparse import coo_matrix, eye\n",
    "from scipy.sparse.linalg import svds\n",
    "from sklearn.metrics import mean_squared_error\n",
    "\n",
    "from sklearn import datasets\n",
    "from sklearn.ensemble import RandomForestClassifier, ExtraTreesClassifier\n",
    "from sklearn import tree\n",
    "from sklearn.decomposition import PCA\n",
    "from sklearn.cluster import KMeans, Birch, DBSCAN\n",
    "\n",
    "\n",
    "\n",
    "genres = [\"Action\", \"Adventure\", \"Animation\", \"Children\", \"Comedy\", \"Crime\", \"Documentary\", \"Drama\", \"Fantasy\", \"Film-Noir\", \"Horror\", \"Musical\", \"Mystery\", \"Romance\", \"Sci-Fi\", \"Thriller\", \"War\", \"Western\"]\n",
    "\n",
    "# 20 mln\n",
    "# ratings = pd.read_csv(\"data/ml-20m/ratings.csv\")\n",
    "# movies = pd.read_csv(\"data/ml-20m/movies.csv\")\n",
    "\n",
    "# 1 mln\n",
    "ratings = pd.read_csv(\"data/ml-1m/ratings.dat\", sep=\"::\", names=[\"userId\", \"movieId\", \"rating\", \"timestamp\"], engine='python')\n",
    "movies = pd.read_csv(\"data/ml-1m/movies.dat\", sep=\"::\", names=[\"movieId\", \"title\", \"genres\"], engine='python')"
   ]
  },
  {
   "cell_type": "markdown",
   "metadata": {},
   "source": [
    "# Macierz użyteczności\n",
    "rzędy = użytkownicy, \n",
    "kolumy = filmy\n",
    "\n",
    "Może się okazać, że będzie trzeba zastosować inny rodzaj sparse_matrix"
   ]
  },
  {
   "cell_type": "code",
   "execution_count": null,
   "metadata": {},
   "outputs": [],
   "source": [
    "utility_matrix = coo_matrix((ratings['rating'], (ratings['userId'], ratings['movieId']))).asfptype()\n",
    "\n",
    "utility_matrix.toarray(), utility_matrix.toarray().shape\n",
    "\n",
    "# movies.head()\n",
    "# ratings.head()"
   ]
  },
  {
   "cell_type": "markdown",
   "metadata": {},
   "source": [
    "# Maicerz podobieństwa"
   ]
  },
  {
   "cell_type": "code",
   "execution_count": null,
   "metadata": {},
   "outputs": [],
   "source": [
    "%%time\n",
    "A = utility_matrix @ utility_matrix.T\n",
    "S = np.sqrt((A * eye(A.shape[0])).toarray() @ np.ones(A.shape))\n",
    "Zero = np.logical_or(np.logical_or(S == 0, S.T == 0), np.eye(S.shape[0]))\n",
    "S = S + np.logical_or(S == 0, S.T == 0)\n",
    "similarity = (A.toarray() / S / S.T) * (1-Zero)\n",
    "similarity.shape"
   ]
  },
  {
   "cell_type": "code",
   "execution_count": null,
   "metadata": {},
   "outputs": [],
   "source": [
    "def movie_values(user, n):\n",
    "    closest_users = np.argpartition((utility_matrix.toarray() > 0) * -similarity[:,[user]],kth=n, axis=0)[:n,]\n",
    "    closest_users_raitings = utility_matrix.toarray()[\n",
    "        closest_users,\n",
    "        np.arange(utility_matrix.shape[1])[None,:]\n",
    "    ]\n",
    "    movie_val = np.sum(closest_users_raitings, axis=0)/n\n",
    "    return movie_val\n",
    "\n",
    "#TODO: Wyzerwoać te które już ocenił i potem posortować                 \n",
    "movie_values(user=1021,n=2)"
   ]
  },
  {
   "cell_type": "markdown",
   "metadata": {},
   "source": [
    "# Wektory gatunków filmowych"
   ]
  },
  {
   "cell_type": "code",
   "execution_count": null,
   "metadata": {},
   "outputs": [],
   "source": [
    "for i, v in enumerate(genres):\n",
    "    movies[i] = movies['genres'].str.contains(v)\n",
    "# tags = pd.read_csv(\"data/tags.csv\")\n",
    "\n",
    "movies = movies.merge(ratings.groupby('movieId')['rating'].agg([pd.np.mean]), how='left', on='movieId')\n",
    "movies.head()\n",
    "# ratings.head()"
   ]
  },
  {
   "cell_type": "code",
   "execution_count": null,
   "metadata": {},
   "outputs": [],
   "source": [
    "ratingsExt = pd.merge(ratings, movies, on='movieId')\n",
    "ratingsExt.head()"
   ]
  },
  {
   "cell_type": "code",
   "execution_count": null,
   "metadata": {},
   "outputs": [],
   "source": [
    "for i in range(18):\n",
    "    ratingsExt[i] = ratingsExt[i] * (ratingsExt['rating'] - ratingsExt['mean']) \n",
    "\n",
    "ratingsExt.head()\n"
   ]
  },
  {
   "cell_type": "code",
   "execution_count": null,
   "metadata": {},
   "outputs": [],
   "source": [
    "ratingsExt.groupby('userId')[list(range(18))].agg([pd.np.sum]).head()"
   ]
  },
  {
   "cell_type": "code",
   "execution_count": null,
   "metadata": {},
   "outputs": [],
   "source": [
    "data = ratingsExt.drop([\"timestamp\", \"title\", \"genres\"], axis = 1)\n",
    "data.head()"
   ]
  },
  {
   "cell_type": "markdown",
   "metadata": {},
   "source": [
    "## Przykłądowe dane:"
   ]
  },
  {
   "cell_type": "code",
   "execution_count": null,
   "metadata": {
    "scrolled": false
   },
   "outputs": [],
   "source": [
    "ratingsExt.loc[(ratingsExt['userId'] == 1) & (ratingsExt['rating'] > 4)]"
   ]
  },
  {
   "cell_type": "markdown",
   "metadata": {},
   "source": [
    "## Próba grupowania filmów według gatunków (w seumie bez sensu)"
   ]
  },
  {
   "cell_type": "code",
   "execution_count": null,
   "metadata": {},
   "outputs": [],
   "source": [
    "\n",
    "test = movies.drop([\"movieId\", 'genres'], axis = 1)\n",
    "\n",
    "data = test.loc[:, range(18)]\n",
    "print(data.shape)\n",
    "\n",
    "pca_model = PCA(n_components=2)\n",
    "pca = pca_model.fit_transform(data)\n",
    "\n",
    "kmeans = KMeans(n_clusters=4, init='k-means++', n_init=100).fit(data)\n",
    "birch = Birch(threshold=0.2, n_clusters=None).fit(data)\n",
    "dbscan = DBSCAN(eps=0.999999, min_samples=25).fit(data)"
   ]
  },
  {
   "cell_type": "code",
   "execution_count": null,
   "metadata": {},
   "outputs": [],
   "source": [
    "x, y = pca[:,0], pca[:,1]\n",
    "\n",
    "\n",
    "plt.axis('equal')\n",
    "plt.scatter(x,y, c=kmeans.labels_)\n",
    "plt.show()\n",
    "\n",
    "plt.axis('equal')\n",
    "plt.scatter(x,y, c=birch.labels_)\n",
    "plt.show()data:image/png;base64,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\n",
    "\n",
    "plt.axis('equal')\n",
    "plt.scatter(x,y, c=dbscan.labels_)\n",
    "plt.show()"
   ]
  },
  {
   "cell_type": "markdown",
   "metadata": {},
   "source": [
    "# Faktoryzacja macierzy\n",
    "### Na razie na małych danych"
   ]
  },
  {
   "cell_type": "code",
   "execution_count": null,
   "metadata": {},
   "outputs": [],
   "source": [
    "u, s, vh = svds(utility_matrix, k = 1000)\n",
    "u.shape, s.shape, vh.shape"
   ]
  },
  {
   "cell_type": "code",
   "execution_count": null,
   "metadata": {},
   "outputs": [],
   "source": [
    "mean_squared_error(utility_matrix.toarray()[utility_matrix.nonzero()], (u * s @ vh)[utility_matrix.nonzero()])"
   ]
  },
  {
   "cell_type": "code",
   "execution_count": null,
   "metadata": {},
   "outputs": [],
   "source": [
    "um_arr_non_zero = utility_matrix.nonzero()\n",
    "um_arr = utility_matrix.toarray()[um_arr_non_zero]\n",
    "\n",
    "f = open('MSEs.txt','w')\n",
    "\n",
    "for k in range(3500, 3901, 100):\n",
    "    u, s, vh = svds(utility_matrix, k = k)\n",
    "    val = mean_squared_error(um_arr, (u * s @ vh)[um_arr_non_zero])\n",
    "    np.save(f\"svd_table_{k}\", u * s @ vh)\n",
    "    print(f\"MSE dla k={k}: {val}\")\n",
    "    f.write(f\"MSE dla k={k}: {val}\\n\")\n",
    "    \n",
    "f.close()"
   ]
  },
  {
   "cell_type": "code",
   "execution_count": null,
   "metadata": {},
   "outputs": [],
   "source": [
    "arr = np.load('svd_table_3900.npy')\n",
    "arr.shape"
   ]
  },
  {
   "cell_type": "code",
   "execution_count": null,
   "metadata": {},
   "outputs": [],
   "source": [
    "arr"
   ]
  },
  {
   "cell_type": "code",
   "execution_count": null,
   "metadata": {},
   "outputs": [],
   "source": [
    "u, s, vh = svds(utility_matrix, k = 10)\n",
    "u.shape, s.shape, vh.shape"
   ]
  },
  {
   "cell_type": "code",
   "execution_count": null,
   "metadata": {},
   "outputs": [],
   "source": [
    "u * s @ vh"
   ]
  },
  {
   "cell_type": "code",
   "execution_count": null,
   "metadata": {},
   "outputs": [],
   "source": []
  }
 ],
 "metadata": {
  "kernelspec": {
   "display_name": "Python 3",
   "language": "python",
   "name": "python3"
  },
  "language_info": {
   "codemirror_mode": {
    "name": "ipython",
    "version": 3
   },
   "file_extension": ".py",
   "mimetype": "text/x-python",
   "name": "python",
   "nbconvert_exporter": "python",
   "pygments_lexer": "ipython3",
   "version": "3.7.0"
  }
 },
 "nbformat": 4,
 "nbformat_minor": 2
}
